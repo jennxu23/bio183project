{
 "cells": [
  {
   "cell_type": "markdown",
   "metadata": {},
   "source": [
    "Proccessing Data"
   ]
  },
  {
   "cell_type": "code",
   "execution_count": 430,
   "metadata": {},
   "outputs": [],
   "source": [
    "import numpy as np\n",
    "import pandas as pd\n",
    "import matplotlib.pyplot as plt\n",
    "\n",
    "df = pd.read_csv('pnas.1424033112.sd01.txt', delimiter='\\t', skiprows=[n for n in range(19)], header=None)\n",
    "lang_df = df.iloc[:,:9]\n",
    "columns = ['Ruhlen Record Number', 'Ruhlen Name', 'ISO', 'ISOA3', 'Ethnologue Classifcation', 'Population', 'Location', 'Latitude', 'Longitude']\n",
    "lang_df.columns = columns\n",
    "lang_df = lang_df.drop_duplicates(subset = ['Ruhlen Name'], keep = 'first')\n",
    "afro_df = lang_df.loc[lang_df['Location'] == 'Africa']\n",
    "afro_df = afro_df[afro_df['Ruhlen Name'].isin(['Yoruba', 'Igbo'])]\n",
    "#define constants: population "
   ]
  },
  {
   "cell_type": "code",
   "execution_count": 431,
   "metadata": {},
   "outputs": [
    {
     "data": {
      "text/plain": [
       "array([0.51219512, 0.48780488])"
      ]
     },
     "execution_count": 431,
     "metadata": {},
     "output_type": "execute_result"
    }
   ],
   "source": [
    "population = afro_df[['Population', 'Ruhlen Name']]\n",
    "pop_size = population['Population'].sum()\n",
    "prop_p_0 = population['Population'].to_numpy()\n",
    "prop_p_0 = prop_p_0/(pop_size)\n",
    "n_gen = 100\n",
    "n_reps = 50\n",
    "prop_p_0"
   ]
  },
  {
   "cell_type": "code",
   "execution_count": 432,
   "metadata": {},
   "outputs": [
    {
     "data": {
      "text/html": [
       "<div>\n",
       "<style scoped>\n",
       "    .dataframe tbody tr th:only-of-type {\n",
       "        vertical-align: middle;\n",
       "    }\n",
       "\n",
       "    .dataframe tbody tr th {\n",
       "        vertical-align: top;\n",
       "    }\n",
       "\n",
       "    .dataframe thead th {\n",
       "        text-align: right;\n",
       "    }\n",
       "</style>\n",
       "<table border=\"1\" class=\"dataframe\">\n",
       "  <thead>\n",
       "    <tr style=\"text-align: right;\">\n",
       "      <th></th>\n",
       "      <th>Yoruba</th>\n",
       "      <th>Igbo</th>\n",
       "      <th>simulation</th>\n",
       "    </tr>\n",
       "  </thead>\n",
       "  <tbody>\n",
       "    <tr>\n",
       "      <th>0</th>\n",
       "      <td>0.512195</td>\n",
       "      <td>0.487805</td>\n",
       "      <td>0</td>\n",
       "    </tr>\n",
       "    <tr>\n",
       "      <th>1</th>\n",
       "      <td>0.512029</td>\n",
       "      <td>0.487809</td>\n",
       "      <td>1</td>\n",
       "    </tr>\n",
       "    <tr>\n",
       "      <th>2</th>\n",
       "      <td>0.512023</td>\n",
       "      <td>0.487774</td>\n",
       "      <td>1</td>\n",
       "    </tr>\n",
       "    <tr>\n",
       "      <th>3</th>\n",
       "      <td>0.511892</td>\n",
       "      <td>0.487751</td>\n",
       "      <td>1</td>\n",
       "    </tr>\n",
       "    <tr>\n",
       "      <th>4</th>\n",
       "      <td>0.511984</td>\n",
       "      <td>0.487792</td>\n",
       "      <td>1</td>\n",
       "    </tr>\n",
       "    <tr>\n",
       "      <th>...</th>\n",
       "      <td>...</td>\n",
       "      <td>...</td>\n",
       "      <td>...</td>\n",
       "    </tr>\n",
       "    <tr>\n",
       "      <th>49996</th>\n",
       "      <td>0.511184</td>\n",
       "      <td>0.490754</td>\n",
       "      <td>50</td>\n",
       "    </tr>\n",
       "    <tr>\n",
       "      <th>49997</th>\n",
       "      <td>0.511153</td>\n",
       "      <td>0.490869</td>\n",
       "      <td>50</td>\n",
       "    </tr>\n",
       "    <tr>\n",
       "      <th>49998</th>\n",
       "      <td>0.511217</td>\n",
       "      <td>0.490862</td>\n",
       "      <td>50</td>\n",
       "    </tr>\n",
       "    <tr>\n",
       "      <th>49999</th>\n",
       "      <td>0.511247</td>\n",
       "      <td>0.490736</td>\n",
       "      <td>50</td>\n",
       "    </tr>\n",
       "    <tr>\n",
       "      <th>50000</th>\n",
       "      <td>0.511309</td>\n",
       "      <td>0.490810</td>\n",
       "      <td>50</td>\n",
       "    </tr>\n",
       "  </tbody>\n",
       "</table>\n",
       "<p>50001 rows × 3 columns</p>\n",
       "</div>"
      ],
      "text/plain": [
       "         Yoruba      Igbo  simulation\n",
       "0      0.512195  0.487805           0\n",
       "1      0.512029  0.487809           1\n",
       "2      0.512023  0.487774           1\n",
       "3      0.511892  0.487751           1\n",
       "4      0.511984  0.487792           1\n",
       "...         ...       ...         ...\n",
       "49996  0.511184  0.490754          50\n",
       "49997  0.511153  0.490869          50\n",
       "49998  0.511217  0.490862          50\n",
       "49999  0.511247  0.490736          50\n",
       "50000  0.511309  0.490810          50\n",
       "\n",
       "[50001 rows x 3 columns]"
      ]
     },
     "execution_count": 432,
     "metadata": {},
     "output_type": "execute_result"
    }
   ],
   "source": [
    "history = [prop_p_0]\n",
    "for i in range(n_reps):\n",
    "    prop_p = prop_p_0\n",
    "    for j in range(n_gen):\n",
    "        next_gen = np.random.binomial(pop_size, prop_p)\n",
    "        prop_p = next_gen/pop_size\n",
    "        history.append(prop_p)\n",
    "\n",
    "history = np.array(history)\n",
    "simulation = [0]\n",
    "for i in range(n_reps):\n",
    "    simulation.extend([i+1 for j in range(n_gen)])\n",
    "\n",
    "trajectory_df = pd.DataFrame(history, columns = ['Yoruba', 'Igbo'])\n",
    "trajectory_df['simulation'] = simulation\n",
    "trajectory_df"
   ]
  },
  {
   "cell_type": "code",
   "execution_count": 433,
   "metadata": {},
   "outputs": [
    {
     "data": {
      "image/png": "[encoded data removed]",
      "text/plain": [
       "<Figure size 432x288 with 1 Axes>"
      ]
     },
     "metadata": {
      "needs_background": "light"
     },
     "output_type": "display_data"
    },
    {
     "name": "stdout",
     "output_type": "stream",
     "text": [
      "0        0.017247\n",
      "1        0.017126\n",
      "2        0.017146\n",
      "3        0.017070\n",
      "4        0.017107\n",
      "           ...   \n",
      "49996    0.014446\n",
      "49997    0.014343\n",
      "49998    0.014393\n",
      "49999    0.014504\n",
      "50000    0.014495\n",
      "Length: 50001, dtype: float64\n"
     ]
    }
   ],
   "source": [
    "def plot_lang(df, color):\n",
    "    for i in range(n_reps):\n",
    "        graph = df[df['simulation']==i+1]\n",
    "        graph = graph.reset_index()\n",
    "        graph = graph.drop(labels='index', axis=1)\n",
    "        plt.plot(graph.iloc[:,0], color = color)\n",
    "plot_lang(trajectory_df[['Yoruba', 'simulation']], 'blue')\n",
    "plot_lang(trajectory_df[['Igbo', 'simulation']], 'red')\n",
    "plt.title('Trajectory across 100 Generations')\n",
    "plt.xlabel('Generation')\n",
    "plt.ylabel('Proportion of Population')\n",
    "#plt.ylim((0,.6))\n",
    "plt.show()\n",
    "print(trajectory_df[['Yoruba', 'Igbo']].std(axis=1))"
   ]
  },
  {
   "cell_type": "markdown",
   "metadata": {},
   "source": [
    "Same proccess but for South Africa Region"
   ]
  },
  {
   "cell_type": "code",
   "execution_count": 434,
   "metadata": {},
   "outputs": [],
   "source": [
    "import numpy as np\n",
    "import pandas as pd\n",
    "import matplotlib.pyplot as plt\n",
    "\n",
    "df = pd.read_csv('pnas.1424033112.sd01.txt', delimiter='\\t', skiprows=[n for n in range(19)], header=None)\n",
    "lang_df = df.iloc[:,:9]\n",
    "columns = ['Ruhlen Record Number', 'Ruhlen Name', 'ISO', 'ISOA3', 'Ethnologue Classifcation', 'Population', 'Location', 'Latitude', 'Longitude']\n",
    "lang_df.columns = columns\n",
    "lang_df = lang_df.drop_duplicates(subset = ['Ruhlen Name'], keep = 'first')\n",
    "afro_df = lang_df.loc[lang_df['Location'] == 'Africa']\n",
    "afro_df = afro_df[afro_df['Ruhlen Name'].isin(['Hadza', 'Qxu^'])]\n",
    "#define constants: population "
   ]
  },
  {
   "cell_type": "code",
   "execution_count": 435,
   "metadata": {},
   "outputs": [
    {
     "data": {
      "text/plain": [
       "array([0.3125, 0.6875])"
      ]
     },
     "execution_count": 435,
     "metadata": {},
     "output_type": "execute_result"
    }
   ],
   "source": [
    "population = afro_df[['Population', 'Ruhlen Name']]\n",
    "pop_size = population['Population'].sum()\n",
    "prop_p_0 = population['Population'].to_numpy()\n",
    "prop_p_0 = prop_p_0/(pop_size)\n",
    "n_gen = 10\n",
    "n_reps = 50\n",
    "prop_p_0"
   ]
  },
  {
   "cell_type": "code",
   "execution_count": 436,
   "metadata": {},
   "outputs": [
    {
     "data": {
      "text/html": [
       "<div>\n",
       "<style scoped>\n",
       "    .dataframe tbody tr th:only-of-type {\n",
       "        vertical-align: middle;\n",
       "    }\n",
       "\n",
       "    .dataframe tbody tr th {\n",
       "        vertical-align: top;\n",
       "    }\n",
       "\n",
       "    .dataframe thead th {\n",
       "        text-align: right;\n",
       "    }\n",
       "</style>\n",
       "<table border=\"1\" class=\"dataframe\">\n",
       "  <thead>\n",
       "    <tr style=\"text-align: right;\">\n",
       "      <th></th>\n",
       "      <th>Hadza</th>\n",
       "      <th>Qxu^</th>\n",
       "      <th>simulation</th>\n",
       "    </tr>\n",
       "  </thead>\n",
       "  <tbody>\n",
       "    <tr>\n",
       "      <th>0</th>\n",
       "      <td>0.312500</td>\n",
       "      <td>0.687500</td>\n",
       "      <td>0</td>\n",
       "    </tr>\n",
       "    <tr>\n",
       "      <th>1</th>\n",
       "      <td>0.311328</td>\n",
       "      <td>0.679688</td>\n",
       "      <td>1</td>\n",
       "    </tr>\n",
       "    <tr>\n",
       "      <th>2</th>\n",
       "      <td>0.316406</td>\n",
       "      <td>0.674219</td>\n",
       "      <td>1</td>\n",
       "    </tr>\n",
       "    <tr>\n",
       "      <th>3</th>\n",
       "      <td>0.308984</td>\n",
       "      <td>0.675781</td>\n",
       "      <td>1</td>\n",
       "    </tr>\n",
       "    <tr>\n",
       "      <th>4</th>\n",
       "      <td>0.316797</td>\n",
       "      <td>0.664453</td>\n",
       "      <td>1</td>\n",
       "    </tr>\n",
       "    <tr>\n",
       "      <th>...</th>\n",
       "      <td>...</td>\n",
       "      <td>...</td>\n",
       "      <td>...</td>\n",
       "    </tr>\n",
       "    <tr>\n",
       "      <th>496</th>\n",
       "      <td>0.290625</td>\n",
       "      <td>0.694531</td>\n",
       "      <td>50</td>\n",
       "    </tr>\n",
       "    <tr>\n",
       "      <th>497</th>\n",
       "      <td>0.298438</td>\n",
       "      <td>0.674609</td>\n",
       "      <td>50</td>\n",
       "    </tr>\n",
       "    <tr>\n",
       "      <th>498</th>\n",
       "      <td>0.290625</td>\n",
       "      <td>0.664453</td>\n",
       "      <td>50</td>\n",
       "    </tr>\n",
       "    <tr>\n",
       "      <th>499</th>\n",
       "      <td>0.294922</td>\n",
       "      <td>0.656641</td>\n",
       "      <td>50</td>\n",
       "    </tr>\n",
       "    <tr>\n",
       "      <th>500</th>\n",
       "      <td>0.300000</td>\n",
       "      <td>0.641016</td>\n",
       "      <td>50</td>\n",
       "    </tr>\n",
       "  </tbody>\n",
       "</table>\n",
       "<p>501 rows × 3 columns</p>\n",
       "</div>"
      ],
      "text/plain": [
       "        Hadza      Qxu^  simulation\n",
       "0    0.312500  0.687500           0\n",
       "1    0.311328  0.679688           1\n",
       "2    0.316406  0.674219           1\n",
       "3    0.308984  0.675781           1\n",
       "4    0.316797  0.664453           1\n",
       "..        ...       ...         ...\n",
       "496  0.290625  0.694531          50\n",
       "497  0.298438  0.674609          50\n",
       "498  0.290625  0.664453          50\n",
       "499  0.294922  0.656641          50\n",
       "500  0.300000  0.641016          50\n",
       "\n",
       "[501 rows x 3 columns]"
      ]
     },
     "execution_count": 436,
     "metadata": {},
     "output_type": "execute_result"
    }
   ],
   "source": [
    "history = [prop_p_0]\n",
    "for i in range(n_reps):\n",
    "    prop_p = prop_p_0\n",
    "    for j in range(n_gen):\n",
    "        next_gen = np.random.binomial(pop_size, prop_p)\n",
    "        prop_p = next_gen/pop_size\n",
    "        history.append(prop_p)\n",
    "\n",
    "history = np.array(history)\n",
    "simulation = [0]\n",
    "for i in range(n_reps):\n",
    "    simulation.extend([i+1 for j in range(n_gen)])\n",
    "\n",
    "trajectory_df = pd.DataFrame(history, columns = ['Hadza', 'Qxu^'])\n",
    "trajectory_df['simulation'] = simulation\n",
    "trajectory_df"
   ]
  },
  {
   "cell_type": "code",
   "execution_count": 437,
   "metadata": {},
   "outputs": [
    {
     "data": {
      "image/png": "[encoded data removed]",
      "text/plain": [
       "<Figure size 432x288 with 1 Axes>"
      ]
     },
     "metadata": {
      "needs_background": "light"
     },
     "output_type": "display_data"
    },
    {
     "name": "stdout",
     "output_type": "stream",
     "text": [
      "Hadza    0.019036\n",
      "Qxu^     0.018880\n",
      "dtype: float64\n"
     ]
    }
   ],
   "source": [
    "plot_lang(trajectory_df[['Hadza', 'simulation']], 'blue')\n",
    "plot_lang(trajectory_df[['Qxu^', 'simulation']], 'red')\n",
    "plt.title('Trajectory across 100 Generations')\n",
    "plt.xlabel('Generation')\n",
    "plt.ylabel('Proportion of Population')\n",
    "#plt.ylim((0,.6))\n",
    "plt.show()\n",
    "print(trajectory_df[['Hadza', 'Qxu^']].std(axis=0))"
   ]
  }
 ],
 "metadata": {
  "interpreter": {
   "hash": "df8d8eccc69a8295d7e9da2b2402fca6efd623fc31249cbe56bf9d0e7aa7033e"
  },
  "kernelspec": {
   "display_name": "Python 3.8.12 ('base')",
   "language": "python",
   "name": "python3"
  },
  "language_info": {
   "codemirror_mode": {
    "name": "ipython",
    "version": 3
   },
   "file_extension": ".py",
   "mimetype": "text/x-python",
   "name": "python",
   "nbconvert_exporter": "python",
   "pygments_lexer": "ipython3",
   "version": "3.8.12"
  },
  "orig_nbformat": 4
 },
 "nbformat": 4,
 "nbformat_minor": 2
}
